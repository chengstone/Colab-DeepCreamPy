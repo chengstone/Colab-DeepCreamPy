{
  "nbformat": 4,
  "nbformat_minor": 0,
  "metadata": {
    "colab": {
      "name": "Colab-DeepCreamPy-2.2.ipynb",
      "private_outputs": true,
      "provenance": [],
      "collapsed_sections": [],
      "toc_visible": true
    },
    "kernelspec": {
      "name": "python3",
      "display_name": "Python 3"
    },
    "accelerator": "GPU"
  },
  "cells": [
    {
      "cell_type": "markdown",
      "metadata": {
        "id": "0X4wxH4BkCAJ"
      },
      "source": [
        "# Colab-DeepCreamPy\n",
        "\n",
        "Just place the files in the correct folder(s) (the locations are mentioned below, near the Google Drive code) and run every box once.\n",
        "\n",
        "If you already ran every box once and you want to run DCP again (*I mean in an active session. You need to re-run everything if the virtual machine gets deleted after a timeout.*), then you only need to run these cells to avoid redownloading/reinstalling:\n",
        "- (Copy Google Drive Input -> Colab)\n",
        "- Apply Decensor\n",
        "- (Copy Colab -> Google Drive)\n",
        "\n",
        "Brackets only need to be re-run if you want to work with Google Drive.\n",
        "\n",
        "Virtual Machine gets deleted after 30 Minutes inactivity or 12 hours of continuous usage.\n",
        "\n",
        "Info: This colab usees 2.0 as a base."
      ]
    },
    {
      "cell_type": "code",
      "metadata": {
        "id": "j16BPC-GDG8N"
      },
      "source": [
        "# Check your GPU\n",
        "!nvidia-smi"
      ],
      "execution_count": null,
      "outputs": []
    },
    {
      "cell_type": "code",
      "metadata": {
        "id": "3GlscfVXIVK5",
        "cellView": "form"
      },
      "source": [
        "#@title Install\n",
        "# Download model files\n",
        "#!wget https://github.com/deeppomf/DeepCreamPy/archive/v2.0.0-beta.tar.gz\n",
        "!gdown --id 1A24bKr5ocbWNbybnCPbI97dihWROhNpx #DeepCreamPy-v2.0.0-beta.zip\n",
        "!7z x \"/content/DeepCreamPy-v2.0.0-beta.zip\"\n",
        "\n",
        "# Place model files\n",
        "!sudo apt install unzip\n",
        "!pip install gdown\n",
        "\n",
        "%cd /content/DeepCreamPy/models\n",
        "\n",
        "import os\n",
        "import shutil\n",
        "\n",
        "!pip install tensorflow==1.15\n",
        "!pip install keras==2.2.4\n",
        "!pip install scipy\n",
        "!pip install opencv-python\n",
        "\n",
        "model_ver = '2_0' #@param [\"2_0\", \"2_2\"]\n",
        "if model_ver == '2_0':\n",
        "  # code to get 2.0 models\n",
        "  os.system('gdown --id 1IMwzqZUuRnTv5jcuKdvZx-RZweknww5x') #09-11-2019 DCPv2 model.zip\n",
        "  os.system('unzip \"/content/DeepCreamPy/models/09-11-2019 DCPv2 model.zip\"')\n",
        "\n",
        "  # Move model files\n",
        "  #%cd '/content/DeepCreamPy/models/09-11-2019 DCPv2 model'\n",
        "  shutil.move('/content/DeepCreamPy/models/09-11-2019 DCPv2 model/bar', '/content/DeepCreamPy/models/bar')\n",
        "  shutil.move('/content/DeepCreamPy/models/09-11-2019 DCPv2 model/mosaic', '/content/DeepCreamPy/models/mosaic')\n",
        "  shutil.rmtree('/content/DeepCreamPy/models/09-11-2019 DCPv2 model')\n",
        "elif model_ver == '2_2':\n",
        "  os.mkdir('/content/DeepCreamPy/models/bar/')\n",
        "  os.mkdir('/content/DeepCreamPy/models/mosaic/')\n",
        "  # bar\n",
        "  os.system('gdown --id 1DbS9bc_xofnQ2-RqJdS9soRrK53kRDTI -O bar/checkpoint') #checkpoint\n",
        "  os.system('gdown --id 11FNmUjvHabqdo-G3LJqeDMOl05E8T9pf -O bar/Train_775000.data-00000-of-00001') #Train_775000.data-00000-of-00001\n",
        "  os.system('gdown --id 1LjNiHUXU3b1_6sdmgHx3nWRFZk1S2njx -O bar/Train_775000.index') #Train_775000.index\n",
        "  os.system('gdown --id 1G8mCp7ZJxWmCE_WmHNUfGbrrg2yligGn -O bar/Train_775000.meta') #Train_775000.meta\n",
        "\n",
        "  # mosaic\n",
        "  os.system('gdown --id 1AHApyvyuWiRhx4CGoA6lnsnmbI7TJOUJ -O mosaic/checkpoint')\n",
        "  os.system('gdown --id 1XzJ1JcrJN9b0_X0UMEcNdWy58v3a8vMf -O mosaic/Train_290000.data-00000-of-00001') \n",
        "  os.system('gdown --id 1nDANRgp7auZPR_FAQbQhNcaKe_p-XAlQ -O mosaic/Train_290000.index')\n",
        "  os.system('gdown --id 1keIxiygCMRitAINa3wwSb0X2Qd2FElVM -O mosaic/Train_290000.meta')"
      ],
      "execution_count": null,
      "outputs": []
    },
    {
      "cell_type": "markdown",
      "metadata": {
        "id": "kCXy5WBgVc3o"
      },
      "source": [
        "# Copy files from Drive or place them manually\n",
        "\n",
        "If you want to use Google Drive, create these paths inside your Google Drive or use the code below to create it automatically and place your files there.\n",
        "```\n",
        "- \"GDrive\"/deepcreampy/decensor_input\n",
        "- \"GDrive\"/deepcreampy/decensor_input_original\n",
        "\n",
        "If you don't want to use Google Drive, then upload the files to Colab.\n",
        " - /content/DeepCreamPy/decensor_input\n",
        " - /content/DeepCreamPy/decensor_input_original\n",
        "\n",
        "\n",
        " The results will be in:\n",
        " - \"GDrive\"/deepcreampy/decensor_output\n",
        "or\n",
        "- /content/DeepCreamPy/decensor_output\n",
        " ```\n",
        "\n",
        "depending on what you choose."
      ]
    },
    {
      "cell_type": "code",
      "metadata": {
        "id": "TXp6H4RxDJPV",
        "cellView": "form"
      },
      "source": [
        "#@title Connect Google Drive\n",
        "# Connect Google Drive, if you want to use Google Drive\n",
        "from google.colab import drive\n",
        "drive.mount('/content/drive')\n",
        "print('Google Drive connected.')"
      ],
      "execution_count": null,
      "outputs": []
    },
    {
      "cell_type": "code",
      "metadata": {
        "id": "zrEIUCwTBr9U",
        "cellView": "form"
      },
      "source": [
        "#@title Automatically create needed Google Drive Folders\n",
        "# Automatically create needed Google Drive Folders (ONLY RUN THIS ONCE, if you want to use Google Drive. This simply creates folders inside your Google Drive.\n",
        "# You don't need to create them again if you already have them.) Or create them manually. The required paths are mentioned above.\n",
        "!mkdir '/content/drive/My Drive/deepcreampy/'\n",
        "!mkdir '/content/drive/My Drive/deepcreampy/decensor_input/'\n",
        "!mkdir '/content/drive/My Drive/deepcreampy/decensor_input_original/'\n",
        "!mkdir '/content/drive/My Drive/deepcreampy/decensor_output/'"
      ],
      "execution_count": null,
      "outputs": []
    },
    {
      "cell_type": "code",
      "metadata": {
        "id": "NGXTNsuw_sfI",
        "cellView": "form"
      },
      "source": [
        "#@title Copy Google Drive input folder(s) -> Colab\n",
        "# Copy Google Drive input folder(s) -> Colab (if you want to use Google Drive))\n",
        "!cp -r '/content/drive/My Drive/deepcreampy/decensor_input/' '/content/DeepCreamPy/'\n",
        "!cp -r '/content/drive/My Drive/deepcreampy/decensor_input_original/' '/content/DeepCreamPy/'"
      ],
      "execution_count": null,
      "outputs": []
    },
    {
      "cell_type": "code",
      "metadata": {
        "id": "O_AamorxHhVF",
        "cellView": "form"
      },
      "source": [
        "#@title Apply Decensor (bar)\n",
        "%cd '/content/DeepCreamPy/'\n",
        "!python decensor.py"
      ],
      "execution_count": null,
      "outputs": []
    },
    {
      "cell_type": "code",
      "metadata": {
        "id": "9BHzlvZJJ-pU",
        "cellView": "form"
      },
      "source": [
        "#@title Apply Decensor (mosaic)\n",
        "%cd '/content/DeepCreamPy/'\n",
        "!python decensor.py --is_mosaic 1"
      ],
      "execution_count": null,
      "outputs": []
    },
    {
      "cell_type": "code",
      "metadata": {
        "id": "q3GCYxFwXkhk",
        "cellView": "form"
      },
      "source": [
        "#@title Copy Colab -> Google Drive output folder\n",
        "# Copy Colab -> Google Drive output folder (if you want to use Google Drive)\n",
        "!cp -r '/content/DeepCreamPy/decensor_output/' '/content/drive/My Drive/deepcreampy/'"
      ],
      "execution_count": null,
      "outputs": []
    }
  ]
}
